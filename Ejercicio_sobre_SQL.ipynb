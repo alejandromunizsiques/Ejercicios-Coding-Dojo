{
  "nbformat": 4,
  "nbformat_minor": 0,
  "metadata": {
    "colab": {
      "name": "Ejercicio sobre SQL.ipynb",
      "provenance": [],
      "authorship_tag": "ABX9TyOOzSmLJ1nTc0C7wl4M57oz",
      "include_colab_link": true
    },
    "kernelspec": {
      "name": "python3",
      "display_name": "Python 3"
    },
    "language_info": {
      "name": "python"
    }
  },
  "cells": [
    {
      "cell_type": "markdown",
      "metadata": {
        "id": "view-in-github",
        "colab_type": "text"
      },
      "source": [
        "<a href=\"https://colab.research.google.com/github/alejandromunizsiques/Ejercicios-Coding-Dojo/blob/main/Ejercicio_sobre_SQL.ipynb\" target=\"_parent\"><img src=\"https://colab.research.google.com/assets/colab-badge.svg\" alt=\"Open In Colab\"/></a>"
      ]
    },
    {
      "cell_type": "markdown",
      "metadata": {
        "id": "aFKhmOCWQOBa"
      },
      "source": [
        "# Importacion de  liberias\n"
      ]
    },
    {
      "cell_type": "code",
      "metadata": {
        "id": "WWN9jNVVQLtX"
      },
      "source": [
        "import pandas as pd\n",
        "from sqlalchemy import create_engine"
      ],
      "execution_count": 1,
      "outputs": []
    },
    {
      "cell_type": "markdown",
      "metadata": {
        "id": "SJsAPeNOQUwk"
      },
      "source": [
        "# Montaje drive\n"
      ]
    },
    {
      "cell_type": "code",
      "metadata": {
        "colab": {
          "base_uri": "https://localhost:8080/"
        },
        "id": "2wO-4XszQYGp",
        "outputId": "76fe51d8-fb7d-441a-a1ed-0d3a46070e3f"
      },
      "source": [
        "from google.colab import drive\n",
        "drive.mount('/content/drive')"
      ],
      "execution_count": 2,
      "outputs": [
        {
          "output_type": "stream",
          "name": "stdout",
          "text": [
            "Mounted at /content/drive\n"
          ]
        }
      ]
    },
    {
      "cell_type": "markdown",
      "metadata": {
        "id": "Fv4NS1yMS6jM"
      },
      "source": [
        "# Montaje datasets"
      ]
    },
    {
      "cell_type": "code",
      "metadata": {
        "colab": {
          "base_uri": "https://localhost:8080/",
          "height": 298
        },
        "id": "qDdwOC0CS-mS",
        "outputId": "2e1136c6-73aa-4999-f203-aa6b91f896f6"
      },
      "source": [
        "school = pd.read_csv(\"/content/drive/MyDrive/Data Science Coding Dojo/Machine Learning Avanzado/school_details.csv\")\n",
        "school.head(2)"
      ],
      "execution_count": 4,
      "outputs": [
        {
          "output_type": "execute_result",
          "data": {
            "text/html": [
              "<div>\n",
              "<style scoped>\n",
              "    .dataframe tbody tr th:only-of-type {\n",
              "        vertical-align: middle;\n",
              "    }\n",
              "\n",
              "    .dataframe tbody tr th {\n",
              "        vertical-align: top;\n",
              "    }\n",
              "\n",
              "    .dataframe thead th {\n",
              "        text-align: right;\n",
              "    }\n",
              "</style>\n",
              "<table border=\"1\" class=\"dataframe\">\n",
              "  <thead>\n",
              "    <tr style=\"text-align: right;\">\n",
              "      <th></th>\n",
              "      <th>districtname</th>\n",
              "      <th>establishmentcode</th>\n",
              "      <th>establishmentname</th>\n",
              "      <th>brcname</th>\n",
              "      <th>crcname</th>\n",
              "      <th>schoollevel</th>\n",
              "      <th>managementname</th>\n",
              "      <th>localityhabitation</th>\n",
              "      <th>subdivisionname</th>\n",
              "      <th>constituencyname</th>\n",
              "      <th>revenueblockname</th>\n",
              "      <th>civicbodyname</th>\n",
              "      <th>wardname</th>\n",
              "      <th>postofficename</th>\n",
              "      <th>phoneno</th>\n",
              "      <th>faxno</th>\n",
              "      <th>emailid</th>\n",
              "      <th>website</th>\n",
              "      <th>locatedinruralorurban</th>\n",
              "      <th>disecode</th>\n",
              "      <th>establisheddate</th>\n",
              "      <th>districthqdistance_in_km</th>\n",
              "      <th>crcdistance_in_km</th>\n",
              "      <th>bacdistance_in_km</th>\n",
              "      <th>isrecognized</th>\n",
              "      <th>recognizedby</th>\n",
              "      <th>contactpersonname</th>\n",
              "      <th>lowestclass</th>\n",
              "      <th>highestclass</th>\n",
              "      <th>boardname</th>\n",
              "    </tr>\n",
              "  </thead>\n",
              "  <tbody>\n",
              "    <tr>\n",
              "      <th>0</th>\n",
              "      <td>East</td>\n",
              "      <td>S0169</td>\n",
              "      <td>BUDANG GOVERNMENT PRIMARY SCHOOL (E)</td>\n",
              "      <td>Duga Brc</td>\n",
              "      <td>Central Pendam Government Senior Secondary School</td>\n",
              "      <td>PS</td>\n",
              "      <td>State Govt.</td>\n",
              "      <td>BUDANG</td>\n",
              "      <td>Gangtok</td>\n",
              "      <td>Rhenock</td>\n",
              "      <td>Central Pendam</td>\n",
              "      <td>Central Pendam</td>\n",
              "      <td>Sajong</td>\n",
              "      <td>Upper Pendam</td>\n",
              "      <td>NaN</td>\n",
              "      <td>NaN</td>\n",
              "      <td>NaN</td>\n",
              "      <td>NaN</td>\n",
              "      <td>Urban Area</td>\n",
              "      <td>NaN</td>\n",
              "      <td>28126</td>\n",
              "      <td>58.0</td>\n",
              "      <td>8.0</td>\n",
              "      <td>16.0</td>\n",
              "      <td>Recognized</td>\n",
              "      <td>HRDD</td>\n",
              "      <td>NaN</td>\n",
              "      <td>Class 1</td>\n",
              "      <td>Class 5</td>\n",
              "      <td>NaN</td>\n",
              "    </tr>\n",
              "    <tr>\n",
              "      <th>1</th>\n",
              "      <td>East</td>\n",
              "      <td>S0099</td>\n",
              "      <td>CENTRAL PENDAM GOVERNMENT SENIOR SECONDARY SCHOOL</td>\n",
              "      <td>Duga Brc</td>\n",
              "      <td>Central Pendam Government Senior Secondary School</td>\n",
              "      <td>SSS</td>\n",
              "      <td>State Govt.</td>\n",
              "      <td>CENTRAL PENDAM</td>\n",
              "      <td>Gangtok</td>\n",
              "      <td>West Pandam</td>\n",
              "      <td>Central Pendam</td>\n",
              "      <td>Central Pendam</td>\n",
              "      <td>Karmithang</td>\n",
              "      <td>Upper Pendam</td>\n",
              "      <td>3592263812</td>\n",
              "      <td>NaN</td>\n",
              "      <td>NaN</td>\n",
              "      <td>NaN</td>\n",
              "      <td>Urban Area</td>\n",
              "      <td>800401</td>\n",
              "      <td>15342</td>\n",
              "      <td>50.0</td>\n",
              "      <td>0.0</td>\n",
              "      <td>6.0</td>\n",
              "      <td>Recognized</td>\n",
              "      <td>HRDD</td>\n",
              "      <td>NaN</td>\n",
              "      <td>Class 1</td>\n",
              "      <td>Class 12</td>\n",
              "      <td>C.B.S.E.</td>\n",
              "    </tr>\n",
              "  </tbody>\n",
              "</table>\n",
              "</div>"
            ],
            "text/plain": [
              "  districtname establishmentcode  ... highestclass boardname\n",
              "0         East             S0169  ...      Class 5       NaN\n",
              "1         East             S0099  ...     Class 12  C.B.S.E.\n",
              "\n",
              "[2 rows x 30 columns]"
            ]
          },
          "metadata": {},
          "execution_count": 4
        }
      ]
    },
    {
      "cell_type": "code",
      "metadata": {
        "colab": {
          "base_uri": "https://localhost:8080/",
          "height": 214
        },
        "id": "2WPWGBp0Tdlr",
        "outputId": "5f21cbe8-7b40-463c-fdb1-927ea724a1c1"
      },
      "source": [
        "facility = pd.read_csv('/content/drive/MyDrive/Data Science Coding Dojo/Machine Learning Avanzado/school_facility_details.csv')\n",
        "facility.head(2)"
      ],
      "execution_count": 5,
      "outputs": [
        {
          "output_type": "execute_result",
          "data": {
            "text/html": [
              "<div>\n",
              "<style scoped>\n",
              "    .dataframe tbody tr th:only-of-type {\n",
              "        vertical-align: middle;\n",
              "    }\n",
              "\n",
              "    .dataframe tbody tr th {\n",
              "        vertical-align: top;\n",
              "    }\n",
              "\n",
              "    .dataframe thead th {\n",
              "        text-align: right;\n",
              "    }\n",
              "</style>\n",
              "<table border=\"1\" class=\"dataframe\">\n",
              "  <thead>\n",
              "    <tr style=\"text-align: right;\">\n",
              "      <th></th>\n",
              "      <th>establishmentcode</th>\n",
              "      <th>establishmentname</th>\n",
              "      <th>islibraryavailable</th>\n",
              "      <th>availablebookscount</th>\n",
              "      <th>isfireextgavailable</th>\n",
              "      <th>extinguishercount</th>\n",
              "      <th>hoiroomavailable</th>\n",
              "      <th>isstaffroomavailable</th>\n",
              "      <th>noofstaffroom</th>\n",
              "      <th>islockerforstaffavailable</th>\n",
              "      <th>issportsstoreroomavailable</th>\n",
              "    </tr>\n",
              "  </thead>\n",
              "  <tbody>\n",
              "    <tr>\n",
              "      <th>0</th>\n",
              "      <td>S1034</td>\n",
              "      <td>(I.E.C) INDIAN EVANGALISTIC CRUSADE MISSION PR...</td>\n",
              "      <td>Not Available</td>\n",
              "      <td>0</td>\n",
              "      <td>Available</td>\n",
              "      <td>1</td>\n",
              "      <td>Available</td>\n",
              "      <td>Not Available</td>\n",
              "      <td>0</td>\n",
              "      <td>Not Available</td>\n",
              "      <td>Not Available</td>\n",
              "    </tr>\n",
              "    <tr>\n",
              "      <th>1</th>\n",
              "      <td>S0516</td>\n",
              "      <td>10TH MILE GOVERNMENT PRIMARY SCHOOL</td>\n",
              "      <td>Not Available</td>\n",
              "      <td>0</td>\n",
              "      <td>Not Available</td>\n",
              "      <td>0</td>\n",
              "      <td>Available</td>\n",
              "      <td>Available</td>\n",
              "      <td>1</td>\n",
              "      <td>Not Available</td>\n",
              "      <td>Not Available</td>\n",
              "    </tr>\n",
              "  </tbody>\n",
              "</table>\n",
              "</div>"
            ],
            "text/plain": [
              "  establishmentcode  ... issportsstoreroomavailable\n",
              "0             S1034  ...              Not Available\n",
              "1             S0516  ...              Not Available\n",
              "\n",
              "[2 rows x 11 columns]"
            ]
          },
          "metadata": {},
          "execution_count": 5
        }
      ]
    },
    {
      "cell_type": "markdown",
      "metadata": {
        "id": "bLFUMzoXTnnj"
      },
      "source": [
        "# Creacion de Engine"
      ]
    },
    {
      "cell_type": "code",
      "metadata": {
        "id": "kZ-KBaG5TqVr"
      },
      "source": [
        "# create sqlite engine\n",
        "engine = create_engine('sqlite:///school.db', echo=True)\n",
        "# create connection to engine\n",
        "conn = engine.connect()"
      ],
      "execution_count": 6,
      "outputs": []
    },
    {
      "cell_type": "markdown",
      "metadata": {
        "id": "w5yyH1FAUDC6"
      },
      "source": [
        "# Creacion data sql"
      ]
    },
    {
      "cell_type": "code",
      "metadata": {
        "colab": {
          "base_uri": "https://localhost:8080/"
        },
        "id": "sRCYHl4sUGaa",
        "outputId": "db0860e9-104d-4487-a2b9-9c7901fa73af"
      },
      "source": [
        "sqlite_table = \"school_details\"\n",
        "school.to_sql(sqlite_table, conn, if_exists='fail')\n",
        "\n",
        "sqlite_table2 = \"school_facility_details\"\n",
        "facility.to_sql(sqlite_table2, conn, if_exists='fail')"
      ],
      "execution_count": 7,
      "outputs": [
        {
          "output_type": "stream",
          "name": "stdout",
          "text": [
            "2021-11-05 22:55:34,948 INFO sqlalchemy.engine.Engine PRAGMA main.table_info(\"school_details\")\n",
            "2021-11-05 22:55:34,950 INFO sqlalchemy.engine.Engine [raw sql] ()\n",
            "2021-11-05 22:55:34,957 INFO sqlalchemy.engine.Engine PRAGMA temp.table_info(\"school_details\")\n",
            "2021-11-05 22:55:34,959 INFO sqlalchemy.engine.Engine [raw sql] ()\n",
            "2021-11-05 22:55:34,973 INFO sqlalchemy.engine.Engine \n",
            "CREATE TABLE school_details (\n",
            "\t\"index\" BIGINT, \n",
            "\tdistrictname TEXT, \n",
            "\testablishmentcode TEXT, \n",
            "\testablishmentname TEXT, \n",
            "\tbrcname TEXT, \n",
            "\tcrcname TEXT, \n",
            "\tschoollevel TEXT, \n",
            "\tmanagementname TEXT, \n",
            "\tlocalityhabitation TEXT, \n",
            "\tsubdivisionname TEXT, \n",
            "\tconstituencyname TEXT, \n",
            "\trevenueblockname TEXT, \n",
            "\tcivicbodyname TEXT, \n",
            "\twardname TEXT, \n",
            "\tpostofficename TEXT, \n",
            "\tphoneno TEXT, \n",
            "\tfaxno TEXT, \n",
            "\temailid TEXT, \n",
            "\twebsite TEXT, \n",
            "\tlocatedinruralorurban TEXT, \n",
            "\tdisecode TEXT, \n",
            "\testablisheddate TEXT, \n",
            "\tdistricthqdistance_in_km FLOAT, \n",
            "\tcrcdistance_in_km FLOAT, \n",
            "\tbacdistance_in_km FLOAT, \n",
            "\tisrecognized TEXT, \n",
            "\trecognizedby TEXT, \n",
            "\tcontactpersonname FLOAT, \n",
            "\tlowestclass TEXT, \n",
            "\thighestclass TEXT, \n",
            "\tboardname TEXT\n",
            ")\n",
            "\n",
            "\n",
            "2021-11-05 22:55:34,979 INFO sqlalchemy.engine.Engine [no key 0.00661s] ()\n",
            "2021-11-05 22:55:34,997 INFO sqlalchemy.engine.Engine COMMIT\n",
            "2021-11-05 22:55:34,999 INFO sqlalchemy.engine.Engine CREATE INDEX ix_school_details_index ON school_details (\"index\")\n",
            "2021-11-05 22:55:35,001 INFO sqlalchemy.engine.Engine [no key 0.00192s] ()\n",
            "2021-11-05 22:55:35,021 INFO sqlalchemy.engine.Engine COMMIT\n",
            "2021-11-05 22:55:35,029 INFO sqlalchemy.engine.Engine BEGIN (implicit)\n",
            "2021-11-05 22:55:35,107 INFO sqlalchemy.engine.Engine INSERT INTO school_details (\"index\", districtname, establishmentcode, establishmentname, brcname, crcname, schoollevel, managementname, localityhabitation, subdivisionname, constituencyname, revenueblockname, civicbodyname, wardname, postofficename, phoneno, faxno, emailid, website, locatedinruralorurban, disecode, establisheddate, districthqdistance_in_km, crcdistance_in_km, bacdistance_in_km, isrecognized, recognizedby, contactpersonname, lowestclass, highestclass, boardname) VALUES (?, ?, ?, ?, ?, ?, ?, ?, ?, ?, ?, ?, ?, ?, ?, ?, ?, ?, ?, ?, ?, ?, ?, ?, ?, ?, ?, ?, ?, ?, ?)\n",
            "2021-11-05 22:55:35,110 INFO sqlalchemy.engine.Engine [generated in 0.06422s] ((0, 'East', 'S0169', 'BUDANG GOVERNMENT PRIMARY SCHOOL (E)', 'Duga Brc', 'Central Pendam Government Senior Secondary School', 'PS', 'State Govt.', 'BUDANG', 'Gangtok', 'Rhenock', 'Central Pendam', 'Central Pendam', 'Sajong', 'Upper Pendam', None, None, None, None, 'Urban Area', None, '28126', 58.0, 8.0, 16.0, 'Recognized', 'HRDD', None, 'Class 1', 'Class 5', None), (1, 'East', 'S0099', 'CENTRAL PENDAM GOVERNMENT SENIOR SECONDARY SCHOOL', 'Duga Brc', 'Central Pendam Government Senior Secondary School', 'SSS', 'State Govt.', 'CENTRAL PENDAM', 'Gangtok', 'West Pandam', 'Central Pendam', 'Central Pendam', 'Karmithang', 'Upper Pendam', '3592263812', None, None, None, 'Urban Area', '800401', '15342', 50.0, 0.0, 6.0, 'Recognized', 'HRDD', None, 'Class 1', 'Class 12', 'C.B.S.E.'), (2, 'East', 'S0848', 'CENTRAL POINT ACADEMY, CENTRAL PENDAM', 'Duga Brc', 'Central Pendam Government Senior Secondary School', 'SS', 'Private (Unaided)', 'UPPER BHURUNG CENTRAL PENDAM', 'Gangtok', 'West Pandam', 'Central Pendam', 'Central Pendam', 'Burung', 'Upper Pendam', '03592263809/263960', None, 'ksu_5162@yahoo.com', 'www.facebook.com/khanalkeshav (Group-CPA)', 'Urban Area', None, '37257.38680555556', 49.0, 1.5, 6.0, 'Recognized', 'HRDD, GOVT. OF SIKKIM', None, 'Class 1', 'Class 10', 'C.B.S.E.'), (3, 'East', 'S0190', 'CHEURIBOTEY GOVERNMENT JUNIOR HIGH SCHOOL (E)', 'Duga Brc', 'Central Pendam Government Senior Secondary School', 'JHS', 'State Govt.', 'CHEURIBOTEY', 'Gangtok', 'West Pandam', 'Central Pendam', 'Central Pendam', 'Cheuribotey', 'Duga', None, None, None, None, 'Urban Area', None, '28856', 60.0, 6.0, 6.0, 'Recognized', 'State Govt.', None, 'Class 1', 'Class 8', None), (4, 'East', 'S0111', 'DUGA GOVERNMENT SECONDARY SCHOOL', 'Duga Brc', 'Central Pendam Government Senior Secondary School', 'SS', 'State Govt.', 'DUGA', 'Gangtok', 'West Pandam', 'Central Pendam', 'Central Pendam', 'Duga', 'Duga', '9832082915', None, 'dugaschool@gmail.com', None, 'Urban Area', None, '1828', 52.0, 0.0, 0.5, 'Recognized', 'c.b.s.e.', None, 'Class 1', 'Class 10', 'C.B.S.E.'), (5, 'East', 'S0856', 'EASWARAMMA SAI GURUKOOL ACCADEMY', 'Duga Brc', 'Central Pendam Government Senior Secondary School', 'PS', 'Private (Unaided)', 'RALUNG', 'Gangtok', 'West Pandam', 'Central Pendam', 'West Pendam', 'Ralang', 'West Pendam', '9733056624', None, None, None, 'Urban Area', None, '40179.66805555556', 0.0, 0.2, 0.2, 'Recognized', None, None, 'Class 1', 'Class 5', None), (6, 'East', 'S0870', 'ETERNAL ENGLISH SCHOOL, WEST PENDAM', 'Duga Brc', 'Central Pendam Government Senior Secondary School', 'PS', 'Private (Unaided)', 'SAKHU WEST PENDAM', 'Gangtok', 'West Pandam', 'West Pendam', 'West Pendam', 'Sakhu', 'Sakhu Busty', '9734190544', None, None, None, 'Urban Area', None, '37300.66805555556', 42.0, 3.0, 4.0, 'Recognized', 'HRDD OF SIKKIM', None, 'Class 1', 'Class 5', None), (7, 'East', 'S0157', 'KHANI GOAN GOVERNMENT PRIMARY SCHOOL', 'Duga Brc', 'Central Pendam Government Senior Secondary School', 'PS', 'State Govt.', 'WEST PENDAM', 'Gangtok', 'West Pandam', 'West Pendam', 'West Pendam', 'Khanigaon', 'West Pendam', '9832470263', None, None, None, 'Urban Area', '801801', '29587', 45.0, 5.0, 4.0, 'Recognized', 'State Govt.', None, 'Class 1', 'Class 5', 'C.B.S.E.')  ... displaying 10 of 1249 total bound parameter sets ...  (1247, 'West', 'S0340', 'TINGTING GAON GOVERNMENT PRIMARY SCHOOL', 'Yuksom Brc', 'Yuksom Government Secondary School', 'PS', 'State Govt.', 'TING TING GAON', 'Gyalshing', 'Yoksam-Tashiding', 'Yoksam', 'Yuksom', 'Tingting', 'Yuksom', '9593377402', None, None, None, 'Urban Area', '100282', '29587', 36.0, 3.0, 6.0, 'Recognized', 'STATE GOVERNMENT', None, 'Class 1', 'Class 5', None), (1248, 'West', 'S0542', 'TSONG GOVERNMENT PRIMARY SCHOOL', 'Yuksom Brc', 'Yuksom Government Secondary School', 'PS', 'State Govt.', 'TSONG', 'Gyalshing', 'Yoksam-Tashiding', 'Yoksam', 'Yuksom', 'Yoksam', 'Yuksom', None, None, None, None, 'Urban Area', None, '28176', 40.0, 7.0, 8.0, 'Recognized', 'State Government', None, 'Class 1', 'Class 5', 'C.B.S.E.'))\n",
            "2021-11-05 22:55:35,133 INFO sqlalchemy.engine.Engine COMMIT\n",
            "2021-11-05 22:55:35,156 INFO sqlalchemy.engine.Engine PRAGMA main.table_info(\"school_facility_details\")\n",
            "2021-11-05 22:55:35,159 INFO sqlalchemy.engine.Engine [raw sql] ()\n",
            "2021-11-05 22:55:35,161 INFO sqlalchemy.engine.Engine PRAGMA temp.table_info(\"school_facility_details\")\n",
            "2021-11-05 22:55:35,163 INFO sqlalchemy.engine.Engine [raw sql] ()\n",
            "2021-11-05 22:55:35,170 INFO sqlalchemy.engine.Engine \n",
            "CREATE TABLE school_facility_details (\n",
            "\t\"index\" BIGINT, \n",
            "\testablishmentcode TEXT, \n",
            "\testablishmentname TEXT, \n",
            "\tislibraryavailable TEXT, \n",
            "\tavailablebookscount BIGINT, \n",
            "\tisfireextgavailable TEXT, \n",
            "\textinguishercount BIGINT, \n",
            "\thoiroomavailable TEXT, \n",
            "\tisstaffroomavailable TEXT, \n",
            "\tnoofstaffroom BIGINT, \n",
            "\tislockerforstaffavailable TEXT, \n",
            "\tissportsstoreroomavailable TEXT\n",
            ")\n",
            "\n",
            "\n",
            "2021-11-05 22:55:35,173 INFO sqlalchemy.engine.Engine [no key 0.00289s] ()\n",
            "2021-11-05 22:55:35,189 INFO sqlalchemy.engine.Engine COMMIT\n",
            "2021-11-05 22:55:35,191 INFO sqlalchemy.engine.Engine CREATE INDEX ix_school_facility_details_index ON school_facility_details (\"index\")\n",
            "2021-11-05 22:55:35,193 INFO sqlalchemy.engine.Engine [no key 0.00136s] ()\n",
            "2021-11-05 22:55:35,209 INFO sqlalchemy.engine.Engine COMMIT\n",
            "2021-11-05 22:55:35,215 INFO sqlalchemy.engine.Engine BEGIN (implicit)\n",
            "2021-11-05 22:55:35,254 INFO sqlalchemy.engine.Engine INSERT INTO school_facility_details (\"index\", establishmentcode, establishmentname, islibraryavailable, availablebookscount, isfireextgavailable, extinguishercount, hoiroomavailable, isstaffroomavailable, noofstaffroom, islockerforstaffavailable, issportsstoreroomavailable) VALUES (?, ?, ?, ?, ?, ?, ?, ?, ?, ?, ?, ?)\n",
            "2021-11-05 22:55:35,255 INFO sqlalchemy.engine.Engine [generated in 0.03232s] ((0, 'S1034', '(I.E.C) INDIAN EVANGALISTIC CRUSADE MISSION PRIMARY SCHOOL, RIMBI', 'Not Available', 0, 'Available', 1, 'Available', 'Not Available', 0, 'Not Available', 'Not Available'), (1, 'S0516', '10TH MILE GOVERNMENT PRIMARY SCHOOL', 'Not Available', 0, 'Not Available', 0, 'Available', 'Available', 1, 'Not Available', 'Not Available'), (2, 'S0237', '4TH MILE GOVERNMENT JUNIOR HIGH SCHOOL', 'Not Available', 0, 'Available', 2, 'Not Available', 'Not Available', 0, 'Not Available', 'Not Available'), (3, 'S0692', 'AAPGAZI GOVERNMENT PRIMARY SCHOOL', 'Not Available', 0, 'Not Available', 0, 'Not Available', 'Not Available', 0, 'Not Available', 'Not Available'), (4, 'S0374', 'AARUBOTEY GOVERNMENT PRIMARY SCHOOL', 'Not Available', 0, 'Available', 2, 'Not Available', 'Not Available', 0, 'Not Available', 'Not Available'), (5, 'S0218', 'ADAMPOOL GOVERNMENT JUNIOR HIGH SCHOOL', 'Available', 217, 'Available', 5, 'Available', 'Available', 1, 'Available', 'Not Available'), (6, 'S1064', 'ADONAI HOMES , NAYA BAZAR', 'Available', 0, 'Available', 0, 'Not Available', 'Available', 2, 'Not Available', 'Available'), (7, 'C1348', 'ADVANCED TECHNICAL TRAINING CENTRE', 'Available', 0, 'Available', 0, 'Available', 'Available', 0, 'Available', 'Available')  ... displaying 10 of 1256 total bound parameter sets ...  (1254, 'S0185', 'ZITLANG GOVERNMENT JUNIOR HIGH SCHOOL', 'Available', 0, 'Available', 5, 'Not Available', 'Available', 1, 'Not Available', 'Not Available'), (1255, 'S0267', 'ZOOM GOVERNMENT SECONDARY SCHOOL', 'Not Available', 0, 'Available', 6, 'Available', 'Available', 1, 'Available', 'Not Available'))\n",
            "2021-11-05 22:55:35,269 INFO sqlalchemy.engine.Engine COMMIT\n"
          ]
        }
      ]
    },
    {
      "cell_type": "markdown",
      "metadata": {
        "id": "btlHeqa_UJEq"
      },
      "source": [
        "# Preguntas"
      ]
    },
    {
      "cell_type": "markdown",
      "metadata": {
        "id": "RYqMOWCTUOnx"
      },
      "source": [
        "¿Cuál es el BACDistance promedio (en km)? Renombra la columna resultante como \"avg_bac_distancia.\""
      ]
    },
    {
      "cell_type": "code",
      "metadata": {
        "colab": {
          "base_uri": "https://localhost:8080/",
          "height": 164
        },
        "id": "W7qOju1EUSxk",
        "outputId": "04a126f8-bfd2-4301-b50d-e63df90ff072"
      },
      "source": [
        "# Write your SQL query in this string\n",
        "sql = \"\"\"\n",
        "SELECT AVG(\"BACDistance (in Km)\") AS avg_bac_distance\n",
        "FROM school_details\n",
        "\"\"\"\n",
        "\n",
        "# Read the sql query into pandas to view the results\n",
        "df = pd.read_sql_query(sql, engine)\n",
        "df.head()"
      ],
      "execution_count": 8,
      "outputs": [
        {
          "output_type": "stream",
          "name": "stdout",
          "text": [
            "2021-11-05 22:56:44,681 INFO sqlalchemy.engine.Engine \n",
            "SELECT AVG(\"BACDistance (in Km)\") AS avg_bac_distance\n",
            "FROM school_details\n",
            "\n",
            "2021-11-05 22:56:44,684 INFO sqlalchemy.engine.Engine [raw sql] ()\n"
          ]
        },
        {
          "output_type": "execute_result",
          "data": {
            "text/html": [
              "<div>\n",
              "<style scoped>\n",
              "    .dataframe tbody tr th:only-of-type {\n",
              "        vertical-align: middle;\n",
              "    }\n",
              "\n",
              "    .dataframe tbody tr th {\n",
              "        vertical-align: top;\n",
              "    }\n",
              "\n",
              "    .dataframe thead th {\n",
              "        text-align: right;\n",
              "    }\n",
              "</style>\n",
              "<table border=\"1\" class=\"dataframe\">\n",
              "  <thead>\n",
              "    <tr style=\"text-align: right;\">\n",
              "      <th></th>\n",
              "      <th>avg_bac_distance</th>\n",
              "    </tr>\n",
              "  </thead>\n",
              "  <tbody>\n",
              "    <tr>\n",
              "      <th>0</th>\n",
              "      <td>0.0</td>\n",
              "    </tr>\n",
              "  </tbody>\n",
              "</table>\n",
              "</div>"
            ],
            "text/plain": [
              "   avg_bac_distance\n",
              "0               0.0"
            ]
          },
          "metadata": {},
          "execution_count": 8
        }
      ]
    },
    {
      "cell_type": "markdown",
      "metadata": {
        "id": "A3kQmTMAUoBz"
      },
      "source": [
        "¿Cuál es el BACDistance promedio (en km) según nivel educativo del colegio?  Ordena los resultados de promedio mayor a promedio menor."
      ]
    },
    {
      "cell_type": "code",
      "metadata": {
        "colab": {
          "base_uri": "https://localhost:8080/",
          "height": 321
        },
        "id": "MMskwaH1UpvC",
        "outputId": "61928606-5cab-42ab-d434-1e2af8b91d17"
      },
      "source": [
        "sql = \"\"\"\n",
        "SELECT SchoolLevel, AVG(\"BACDistance (in Km)\") as avg_bac_distance\n",
        "FROM school_details\n",
        "GROUP BY SchoolLevel\n",
        "ORDER BY avg_bac_distance DESC\n",
        "\"\"\"\n",
        "\n",
        "# Read the sql query into pandas to view the results\n",
        "df = pd.read_sql_query(sql, engine)\n",
        "df.head()"
      ],
      "execution_count": 9,
      "outputs": [
        {
          "output_type": "stream",
          "name": "stdout",
          "text": [
            "2021-11-05 22:58:08,196 INFO sqlalchemy.engine.Engine \n",
            "SELECT SchoolLevel, AVG(\"BACDistance (in Km)\") as avg_bac_distance\n",
            "FROM school_details\n",
            "GROUP BY SchoolLevel\n",
            "ORDER BY avg_bac_distance DESC\n",
            "\n",
            "2021-11-05 22:58:08,203 INFO sqlalchemy.engine.Engine [raw sql] ()\n"
          ]
        },
        {
          "output_type": "execute_result",
          "data": {
            "text/html": [
              "<div>\n",
              "<style scoped>\n",
              "    .dataframe tbody tr th:only-of-type {\n",
              "        vertical-align: middle;\n",
              "    }\n",
              "\n",
              "    .dataframe tbody tr th {\n",
              "        vertical-align: top;\n",
              "    }\n",
              "\n",
              "    .dataframe thead th {\n",
              "        text-align: right;\n",
              "    }\n",
              "</style>\n",
              "<table border=\"1\" class=\"dataframe\">\n",
              "  <thead>\n",
              "    <tr style=\"text-align: right;\">\n",
              "      <th></th>\n",
              "      <th>schoollevel</th>\n",
              "      <th>avg_bac_distance</th>\n",
              "    </tr>\n",
              "  </thead>\n",
              "  <tbody>\n",
              "    <tr>\n",
              "      <th>0</th>\n",
              "      <td>None</td>\n",
              "      <td>0.0</td>\n",
              "    </tr>\n",
              "    <tr>\n",
              "      <th>1</th>\n",
              "      <td>JHS</td>\n",
              "      <td>0.0</td>\n",
              "    </tr>\n",
              "    <tr>\n",
              "      <th>2</th>\n",
              "      <td>LPS</td>\n",
              "      <td>0.0</td>\n",
              "    </tr>\n",
              "    <tr>\n",
              "      <th>3</th>\n",
              "      <td>PS</td>\n",
              "      <td>0.0</td>\n",
              "    </tr>\n",
              "    <tr>\n",
              "      <th>4</th>\n",
              "      <td>SS</td>\n",
              "      <td>0.0</td>\n",
              "    </tr>\n",
              "  </tbody>\n",
              "</table>\n",
              "</div>"
            ],
            "text/plain": [
              "  schoollevel  avg_bac_distance\n",
              "0        None               0.0\n",
              "1         JHS               0.0\n",
              "2         LPS               0.0\n",
              "3          PS               0.0\n",
              "4          SS               0.0"
            ]
          },
          "metadata": {},
          "execution_count": 9
        }
      ]
    },
    {
      "cell_type": "markdown",
      "metadata": {
        "id": "MjTNs-aaU93C"
      },
      "source": [
        "Repite la consulta anterior, pero solo muestra los resultados donde la distancia promedio sea menor a 10 km."
      ]
    },
    {
      "cell_type": "code",
      "metadata": {
        "colab": {
          "base_uri": "https://localhost:8080/",
          "height": 183
        },
        "id": "Pt_dGmOTU-gz",
        "outputId": "d6754df8-5af4-4633-f927-cb6b84f499f5"
      },
      "source": [
        "# Write your SQL query in this string\n",
        "sql = \"\"\"\n",
        "SELECT SchoolLevel, AVG(\"BACDistance (in Km)\") as avg_bac_distance\n",
        "FROM school_details\n",
        "GROUP BY SchoolLevel\n",
        "HAVING avg_bac_distance >= 10\n",
        "ORDER BY avg_bac_distance DESC\n",
        "\"\"\"\n",
        "\n",
        "# Read the sql query into pandas to view the results\n",
        "df = pd.read_sql_query(sql, engine)\n",
        "df.head()"
      ],
      "execution_count": 10,
      "outputs": [
        {
          "output_type": "stream",
          "name": "stdout",
          "text": [
            "2021-11-05 22:59:32,538 INFO sqlalchemy.engine.Engine \n",
            "SELECT SchoolLevel, AVG(\"BACDistance (in Km)\") as avg_bac_distance\n",
            "FROM school_details\n",
            "GROUP BY SchoolLevel\n",
            "HAVING avg_bac_distance >= 10\n",
            "ORDER BY avg_bac_distance DESC\n",
            "\n",
            "2021-11-05 22:59:32,542 INFO sqlalchemy.engine.Engine [raw sql] ()\n"
          ]
        },
        {
          "output_type": "execute_result",
          "data": {
            "text/html": [
              "<div>\n",
              "<style scoped>\n",
              "    .dataframe tbody tr th:only-of-type {\n",
              "        vertical-align: middle;\n",
              "    }\n",
              "\n",
              "    .dataframe tbody tr th {\n",
              "        vertical-align: top;\n",
              "    }\n",
              "\n",
              "    .dataframe thead th {\n",
              "        text-align: right;\n",
              "    }\n",
              "</style>\n",
              "<table border=\"1\" class=\"dataframe\">\n",
              "  <thead>\n",
              "    <tr style=\"text-align: right;\">\n",
              "      <th></th>\n",
              "      <th>schoollevel</th>\n",
              "      <th>avg_bac_distance</th>\n",
              "    </tr>\n",
              "  </thead>\n",
              "  <tbody>\n",
              "  </tbody>\n",
              "</table>\n",
              "</div>"
            ],
            "text/plain": [
              "Empty DataFrame\n",
              "Columns: [schoollevel, avg_bac_distance]\n",
              "Index: []"
            ]
          },
          "metadata": {},
          "execution_count": 10
        }
      ]
    },
    {
      "cell_type": "markdown",
      "metadata": {
        "id": "BaqGX7e0VFNC"
      },
      "source": [
        "Une las dos tablas (detalles de colegios y detalles de instalaciones de los colegios). Comienza mostrando todas las columnas, pero limita las filas resultantes a solo 2."
      ]
    },
    {
      "cell_type": "code",
      "metadata": {
        "colab": {
          "base_uri": "https://localhost:8080/",
          "height": 433
        },
        "id": "O-LXJlxdVFoB",
        "outputId": "39fae9e4-491d-43f8-8d7f-78a38998e300"
      },
      "source": [
        "# Write your SQL query in this string\n",
        "sql = \"\"\"\n",
        "SELECT *\n",
        "FROM school_details s\n",
        "  JOIN school_facility_details f\n",
        "  ON f.EstablishmentCode = s.EstablishmentCode\n",
        "LIMIT 2\n",
        "\"\"\"\n",
        "\n",
        "# Read the sql query into pandas to view the results\n",
        "df = pd.read_sql_query(sql, engine)\n",
        "df.head()"
      ],
      "execution_count": 11,
      "outputs": [
        {
          "output_type": "stream",
          "name": "stdout",
          "text": [
            "2021-11-05 23:00:01,377 INFO sqlalchemy.engine.Engine \n",
            "SELECT *\n",
            "FROM school_details s\n",
            "  JOIN school_facility_details f\n",
            "  ON f.EstablishmentCode = s.EstablishmentCode\n",
            "LIMIT 2\n",
            "\n",
            "2021-11-05 23:00:01,380 INFO sqlalchemy.engine.Engine [raw sql] ()\n"
          ]
        },
        {
          "output_type": "execute_result",
          "data": {
            "text/html": [
              "<div>\n",
              "<style scoped>\n",
              "    .dataframe tbody tr th:only-of-type {\n",
              "        vertical-align: middle;\n",
              "    }\n",
              "\n",
              "    .dataframe tbody tr th {\n",
              "        vertical-align: top;\n",
              "    }\n",
              "\n",
              "    .dataframe thead th {\n",
              "        text-align: right;\n",
              "    }\n",
              "</style>\n",
              "<table border=\"1\" class=\"dataframe\">\n",
              "  <thead>\n",
              "    <tr style=\"text-align: right;\">\n",
              "      <th></th>\n",
              "      <th>index</th>\n",
              "      <th>districtname</th>\n",
              "      <th>establishmentcode</th>\n",
              "      <th>establishmentname</th>\n",
              "      <th>brcname</th>\n",
              "      <th>crcname</th>\n",
              "      <th>schoollevel</th>\n",
              "      <th>managementname</th>\n",
              "      <th>localityhabitation</th>\n",
              "      <th>subdivisionname</th>\n",
              "      <th>constituencyname</th>\n",
              "      <th>revenueblockname</th>\n",
              "      <th>civicbodyname</th>\n",
              "      <th>wardname</th>\n",
              "      <th>postofficename</th>\n",
              "      <th>phoneno</th>\n",
              "      <th>faxno</th>\n",
              "      <th>emailid</th>\n",
              "      <th>website</th>\n",
              "      <th>locatedinruralorurban</th>\n",
              "      <th>disecode</th>\n",
              "      <th>establisheddate</th>\n",
              "      <th>districthqdistance_in_km</th>\n",
              "      <th>crcdistance_in_km</th>\n",
              "      <th>bacdistance_in_km</th>\n",
              "      <th>isrecognized</th>\n",
              "      <th>recognizedby</th>\n",
              "      <th>contactpersonname</th>\n",
              "      <th>lowestclass</th>\n",
              "      <th>highestclass</th>\n",
              "      <th>boardname</th>\n",
              "      <th>index</th>\n",
              "      <th>establishmentcode</th>\n",
              "      <th>establishmentname</th>\n",
              "      <th>islibraryavailable</th>\n",
              "      <th>availablebookscount</th>\n",
              "      <th>isfireextgavailable</th>\n",
              "      <th>extinguishercount</th>\n",
              "      <th>hoiroomavailable</th>\n",
              "      <th>isstaffroomavailable</th>\n",
              "      <th>noofstaffroom</th>\n",
              "      <th>islockerforstaffavailable</th>\n",
              "      <th>issportsstoreroomavailable</th>\n",
              "    </tr>\n",
              "  </thead>\n",
              "  <tbody>\n",
              "    <tr>\n",
              "      <th>0</th>\n",
              "      <td>0</td>\n",
              "      <td>East</td>\n",
              "      <td>S0169</td>\n",
              "      <td>BUDANG GOVERNMENT PRIMARY SCHOOL (E)</td>\n",
              "      <td>Duga Brc</td>\n",
              "      <td>Central Pendam Government Senior Secondary School</td>\n",
              "      <td>PS</td>\n",
              "      <td>State Govt.</td>\n",
              "      <td>BUDANG</td>\n",
              "      <td>Gangtok</td>\n",
              "      <td>Rhenock</td>\n",
              "      <td>Central Pendam</td>\n",
              "      <td>Central Pendam</td>\n",
              "      <td>Sajong</td>\n",
              "      <td>Upper Pendam</td>\n",
              "      <td>None</td>\n",
              "      <td>None</td>\n",
              "      <td>None</td>\n",
              "      <td>None</td>\n",
              "      <td>Urban Area</td>\n",
              "      <td>None</td>\n",
              "      <td>28126</td>\n",
              "      <td>58.0</td>\n",
              "      <td>8.0</td>\n",
              "      <td>16.0</td>\n",
              "      <td>Recognized</td>\n",
              "      <td>HRDD</td>\n",
              "      <td>None</td>\n",
              "      <td>Class 1</td>\n",
              "      <td>Class 5</td>\n",
              "      <td>None</td>\n",
              "      <td>121</td>\n",
              "      <td>S0169</td>\n",
              "      <td>BUDANG GOVERNMENT PRIMARY SCHOOL (E)</td>\n",
              "      <td>Available</td>\n",
              "      <td>100</td>\n",
              "      <td>Available</td>\n",
              "      <td>2</td>\n",
              "      <td>Available</td>\n",
              "      <td>Available</td>\n",
              "      <td>1</td>\n",
              "      <td>Not Available</td>\n",
              "      <td>Not Available</td>\n",
              "    </tr>\n",
              "    <tr>\n",
              "      <th>1</th>\n",
              "      <td>1</td>\n",
              "      <td>East</td>\n",
              "      <td>S0099</td>\n",
              "      <td>CENTRAL PENDAM GOVERNMENT SENIOR SECONDARY SCHOOL</td>\n",
              "      <td>Duga Brc</td>\n",
              "      <td>Central Pendam Government Senior Secondary School</td>\n",
              "      <td>SSS</td>\n",
              "      <td>State Govt.</td>\n",
              "      <td>CENTRAL PENDAM</td>\n",
              "      <td>Gangtok</td>\n",
              "      <td>West Pandam</td>\n",
              "      <td>Central Pendam</td>\n",
              "      <td>Central Pendam</td>\n",
              "      <td>Karmithang</td>\n",
              "      <td>Upper Pendam</td>\n",
              "      <td>3592263812</td>\n",
              "      <td>None</td>\n",
              "      <td>None</td>\n",
              "      <td>None</td>\n",
              "      <td>Urban Area</td>\n",
              "      <td>800401</td>\n",
              "      <td>15342</td>\n",
              "      <td>50.0</td>\n",
              "      <td>0.0</td>\n",
              "      <td>6.0</td>\n",
              "      <td>Recognized</td>\n",
              "      <td>HRDD</td>\n",
              "      <td>None</td>\n",
              "      <td>Class 1</td>\n",
              "      <td>Class 12</td>\n",
              "      <td>C.B.S.E.</td>\n",
              "      <td>137</td>\n",
              "      <td>S0099</td>\n",
              "      <td>CENTRAL PENDAM GOVERNMENT SENIOR SECONDARY SCHOOL</td>\n",
              "      <td>Available</td>\n",
              "      <td>0</td>\n",
              "      <td>Available</td>\n",
              "      <td>5</td>\n",
              "      <td>Available</td>\n",
              "      <td>Available</td>\n",
              "      <td>2</td>\n",
              "      <td>Not Available</td>\n",
              "      <td>Available</td>\n",
              "    </tr>\n",
              "  </tbody>\n",
              "</table>\n",
              "</div>"
            ],
            "text/plain": [
              "   index districtname  ... islockerforstaffavailable issportsstoreroomavailable\n",
              "0      0         East  ...             Not Available              Not Available\n",
              "1      1         East  ...             Not Available                  Available\n",
              "\n",
              "[2 rows x 43 columns]"
            ]
          },
          "metadata": {},
          "execution_count": 11
        }
      ]
    },
    {
      "cell_type": "markdown",
      "metadata": {
        "id": "zr8owcKuVOUC"
      },
      "source": [
        "Ahora, solo selecciona colegios donde el nivel de este sea Escuela Primaria y que no tengan biblioteca."
      ]
    },
    {
      "cell_type": "code",
      "metadata": {
        "colab": {
          "base_uri": "https://localhost:8080/",
          "height": 338
        },
        "id": "xDs-HZ28VLUq",
        "outputId": "527623a6-ab6e-4798-fa17-223f9d67c8c2"
      },
      "source": [
        "# Write your SQL query in this string\n",
        "sql = \"\"\"\n",
        "SELECT s.EstablishmentName, s.SchoolLevel, f.IsLibraryAvailable\n",
        "FROM school_details s\n",
        "  JOIN school_facility_details f\n",
        "  ON f.EstablishmentCode = s.EstablishmentCode\n",
        "WHERE s.SchoolLevel = 'PS' AND f.IsLibraryAvailable = 'Not Available'\n",
        "\"\"\"\n",
        "\n",
        "# Read the sql query into pandas to view the results\n",
        "df = pd.read_sql_query(sql, engine)\n",
        "df.head()"
      ],
      "execution_count": 12,
      "outputs": [
        {
          "output_type": "stream",
          "name": "stdout",
          "text": [
            "2021-11-05 23:00:36,627 INFO sqlalchemy.engine.Engine \n",
            "SELECT s.EstablishmentName, s.SchoolLevel, f.IsLibraryAvailable\n",
            "FROM school_details s\n",
            "  JOIN school_facility_details f\n",
            "  ON f.EstablishmentCode = s.EstablishmentCode\n",
            "WHERE s.SchoolLevel = 'PS' AND f.IsLibraryAvailable = 'Not Available'\n",
            "\n",
            "2021-11-05 23:00:36,633 INFO sqlalchemy.engine.Engine [raw sql] ()\n"
          ]
        },
        {
          "output_type": "execute_result",
          "data": {
            "text/html": [
              "<div>\n",
              "<style scoped>\n",
              "    .dataframe tbody tr th:only-of-type {\n",
              "        vertical-align: middle;\n",
              "    }\n",
              "\n",
              "    .dataframe tbody tr th {\n",
              "        vertical-align: top;\n",
              "    }\n",
              "\n",
              "    .dataframe thead th {\n",
              "        text-align: right;\n",
              "    }\n",
              "</style>\n",
              "<table border=\"1\" class=\"dataframe\">\n",
              "  <thead>\n",
              "    <tr style=\"text-align: right;\">\n",
              "      <th></th>\n",
              "      <th>establishmentname</th>\n",
              "      <th>schoollevel</th>\n",
              "      <th>islibraryavailable</th>\n",
              "    </tr>\n",
              "  </thead>\n",
              "  <tbody>\n",
              "    <tr>\n",
              "      <th>0</th>\n",
              "      <td>EASWARAMMA SAI GURUKOOL ACCADEMY</td>\n",
              "      <td>PS</td>\n",
              "      <td>Not Available</td>\n",
              "    </tr>\n",
              "    <tr>\n",
              "      <th>1</th>\n",
              "      <td>NEW GARDEN BOARDING SCHOOL (SAJONG)</td>\n",
              "      <td>PS</td>\n",
              "      <td>Not Available</td>\n",
              "    </tr>\n",
              "    <tr>\n",
              "      <th>2</th>\n",
              "      <td>SARASWATI SHISHU VIDHYALAYA, BUDANG</td>\n",
              "      <td>PS</td>\n",
              "      <td>Not Available</td>\n",
              "    </tr>\n",
              "    <tr>\n",
              "      <th>3</th>\n",
              "      <td>SAWNEY GOVERNMENT PRIMARY SCHOOL</td>\n",
              "      <td>PS</td>\n",
              "      <td>Not Available</td>\n",
              "    </tr>\n",
              "    <tr>\n",
              "      <th>4</th>\n",
              "      <td>UPPER PACHAK GOVERNMENT PRIMARY SCHOOL</td>\n",
              "      <td>PS</td>\n",
              "      <td>Not Available</td>\n",
              "    </tr>\n",
              "  </tbody>\n",
              "</table>\n",
              "</div>"
            ],
            "text/plain": [
              "                        establishmentname schoollevel islibraryavailable\n",
              "0        EASWARAMMA SAI GURUKOOL ACCADEMY          PS      Not Available\n",
              "1     NEW GARDEN BOARDING SCHOOL (SAJONG)          PS      Not Available\n",
              "2     SARASWATI SHISHU VIDHYALAYA, BUDANG          PS      Not Available\n",
              "3        SAWNEY GOVERNMENT PRIMARY SCHOOL          PS      Not Available\n",
              "4  UPPER PACHAK GOVERNMENT PRIMARY SCHOOL          PS      Not Available"
            ]
          },
          "metadata": {},
          "execution_count": 12
        }
      ]
    },
    {
      "cell_type": "markdown",
      "metadata": {
        "id": "qMym5iR0VX-y"
      },
      "source": [
        "Toma la consulta anterior, pero ordena los resultados en orden alfabético por nombre."
      ]
    },
    {
      "cell_type": "code",
      "metadata": {
        "colab": {
          "base_uri": "https://localhost:8080/",
          "height": 354
        },
        "id": "d_Nh91Y6VUUz",
        "outputId": "abc2b4e6-890a-45eb-c7ae-41601b22e032"
      },
      "source": [
        "sql = \"\"\"\n",
        "SELECT s.EstablishmentName, s.SchoolLevel, f.IsLibraryAvailable\n",
        "FROM school_details s\n",
        "  JOIN school_facility_details f\n",
        "  ON f.EstablishmentCode = s.EstablishmentCode\n",
        "WHERE s.SchoolLevel = 'PS' AND f.IsLibraryAvailable = 'Not Available'\n",
        "ORDER BY s.EstablishmentName\n",
        "\"\"\"\n",
        "\n",
        "# Read the sql query into pandas to view the results\n",
        "df = pd.read_sql_query(sql, engine)\n",
        "df.head()"
      ],
      "execution_count": 13,
      "outputs": [
        {
          "output_type": "stream",
          "name": "stdout",
          "text": [
            "2021-11-05 23:01:22,206 INFO sqlalchemy.engine.Engine \n",
            "SELECT s.EstablishmentName, s.SchoolLevel, f.IsLibraryAvailable\n",
            "FROM school_details s\n",
            "  JOIN school_facility_details f\n",
            "  ON f.EstablishmentCode = s.EstablishmentCode\n",
            "WHERE s.SchoolLevel = 'PS' AND f.IsLibraryAvailable = 'Not Available'\n",
            "ORDER BY s.EstablishmentName\n",
            "\n",
            "2021-11-05 23:01:22,209 INFO sqlalchemy.engine.Engine [raw sql] ()\n"
          ]
        },
        {
          "output_type": "execute_result",
          "data": {
            "text/html": [
              "<div>\n",
              "<style scoped>\n",
              "    .dataframe tbody tr th:only-of-type {\n",
              "        vertical-align: middle;\n",
              "    }\n",
              "\n",
              "    .dataframe tbody tr th {\n",
              "        vertical-align: top;\n",
              "    }\n",
              "\n",
              "    .dataframe thead th {\n",
              "        text-align: right;\n",
              "    }\n",
              "</style>\n",
              "<table border=\"1\" class=\"dataframe\">\n",
              "  <thead>\n",
              "    <tr style=\"text-align: right;\">\n",
              "      <th></th>\n",
              "      <th>establishmentname</th>\n",
              "      <th>schoollevel</th>\n",
              "      <th>islibraryavailable</th>\n",
              "    </tr>\n",
              "  </thead>\n",
              "  <tbody>\n",
              "    <tr>\n",
              "      <th>0</th>\n",
              "      <td>(I.E.C) INDIAN EVANGALISTIC CRUSADE MISSION PR...</td>\n",
              "      <td>PS</td>\n",
              "      <td>Not Available</td>\n",
              "    </tr>\n",
              "    <tr>\n",
              "      <th>1</th>\n",
              "      <td>10TH MILE GOVERNMENT PRIMARY SCHOOL</td>\n",
              "      <td>PS</td>\n",
              "      <td>Not Available</td>\n",
              "    </tr>\n",
              "    <tr>\n",
              "      <th>2</th>\n",
              "      <td>AAPGAZI GOVERNMENT PRIMARY SCHOOL</td>\n",
              "      <td>PS</td>\n",
              "      <td>Not Available</td>\n",
              "    </tr>\n",
              "    <tr>\n",
              "      <th>3</th>\n",
              "      <td>AARUBOTEY GOVERNMENT PRIMARY SCHOOL</td>\n",
              "      <td>PS</td>\n",
              "      <td>Not Available</td>\n",
              "    </tr>\n",
              "    <tr>\n",
              "      <th>4</th>\n",
              "      <td>AHO-YANGTAM GOVERNMENT PRIMARY SCHOOL</td>\n",
              "      <td>PS</td>\n",
              "      <td>Not Available</td>\n",
              "    </tr>\n",
              "  </tbody>\n",
              "</table>\n",
              "</div>"
            ],
            "text/plain": [
              "                                   establishmentname  ... islibraryavailable\n",
              "0  (I.E.C) INDIAN EVANGALISTIC CRUSADE MISSION PR...  ...      Not Available\n",
              "1                10TH MILE GOVERNMENT PRIMARY SCHOOL  ...      Not Available\n",
              "2                  AAPGAZI GOVERNMENT PRIMARY SCHOOL  ...      Not Available\n",
              "3                AARUBOTEY GOVERNMENT PRIMARY SCHOOL  ...      Not Available\n",
              "4              AHO-YANGTAM GOVERNMENT PRIMARY SCHOOL  ...      Not Available\n",
              "\n",
              "[5 rows x 3 columns]"
            ]
          },
          "metadata": {},
          "execution_count": 13
        }
      ]
    }
  ]
}