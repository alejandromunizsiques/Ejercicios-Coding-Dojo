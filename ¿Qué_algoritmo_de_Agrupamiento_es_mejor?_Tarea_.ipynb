{
  "nbformat": 4,
  "nbformat_minor": 0,
  "metadata": {
    "colab": {
      "name": "¿Qué algoritmo de Agrupamiento es mejor? Tarea .ipynb",
      "provenance": [],
      "toc_visible": true,
      "mount_file_id": "1JaZXhk4D7XId_08IAS9evkP9d3RBfm-u",
      "authorship_tag": "ABX9TyOlh4J59bLK0uJd/viY0BZq",
      "include_colab_link": true
    },
    "kernelspec": {
      "name": "python3",
      "display_name": "Python 3"
    },
    "language_info": {
      "name": "python"
    }
  },
  "cells": [
    {
      "cell_type": "markdown",
      "metadata": {
        "id": "view-in-github",
        "colab_type": "text"
      },
      "source": [
        "<a href=\"https://colab.research.google.com/github/alejandromunizsiques/Ejercicios-Coding-Dojo/blob/main/%C2%BFQu%C3%A9_algoritmo_de_Agrupamiento_es_mejor%3F_Tarea_.ipynb\" target=\"_parent\"><img src=\"https://colab.research.google.com/assets/colab-badge.svg\" alt=\"Open In Colab\"/></a>"
      ]
    },
    {
      "cell_type": "markdown",
      "metadata": {
        "id": "WcLNzwmxb3i_"
      },
      "source": [
        "# Instrucciones"
      ]
    },
    {
      "cell_type": "markdown",
      "metadata": {
        "id": "_y_p7ZOhb62-"
      },
      "source": [
        "Tu tarea es construir a partir de tu trabajo de segmentación de clientes utilizando KMeans de antes en este capítulo. Ahora, queremos usar métodos de agrupamiento adicionales y seleccionar el mejor algoritmo de agrupamiento para esta tarea. Realiza la segmentación de clientes mediante KMeans, agrupación jerárquica en clústeres y DBSCAN. Nos interesa agrupar a nuestros clientes en grupos basados en características similares. Esto puede ayudar a la empresa a asignar recursos de marketing de forma eficaz. Usaremos la edad del cliente, la educación, los años de empleo, los ingresos, la deuda, si incumplieron y la relación deuda: ingresos para agruparlos en segmentos. Puedes descargar los datos aquí. La fuente original proviene de esta fuente."
      ]
    },
    {
      "cell_type": "markdown",
      "metadata": {
        "id": "Fj4DDpeJb80_"
      },
      "source": [
        "# Importacion de librerias"
      ]
    },
    {
      "cell_type": "code",
      "metadata": {
        "id": "aucU-bZ6bpHo"
      },
      "source": [
        "import pandas as pd\n",
        "import numpy as np\n",
        "import matplotlib.pyplot as plt\n",
        "import pandas as pd\n",
        "from sklearn.preprocessing import StandardScaler\n",
        "from sklearn.cluster import KMeans, AgglomerativeClustering, DBSCAN\n",
        "from sklearn.metrics import silhouette_score\n",
        "\n"
      ],
      "execution_count": 2,
      "outputs": []
    },
    {
      "cell_type": "markdown",
      "metadata": {
        "id": "aNJQ0uMfcPn-"
      },
      "source": [
        "# Montaje de dataset"
      ]
    },
    {
      "cell_type": "code",
      "metadata": {
        "colab": {
          "base_uri": "https://localhost:8080/"
        },
        "id": "of5K49xOdC3F",
        "outputId": "c6fe2dcf-18a8-492f-932a-d53b1d0bd4cc"
      },
      "source": [
        "df = pd.read_csv('/content/drive/MyDrive/Data Science Coding Dojo/Introducción al Machine Learning/cust_seg.csv')\n",
        "df= df.dropna()\n",
        "df.info()"
      ],
      "execution_count": 5,
      "outputs": [
        {
          "output_type": "stream",
          "name": "stdout",
          "text": [
            "<class 'pandas.core.frame.DataFrame'>\n",
            "Int64Index: 700 entries, 0 to 849\n",
            "Data columns (total 10 columns):\n",
            " #   Column           Non-Null Count  Dtype  \n",
            "---  ------           --------------  -----  \n",
            " 0   Unnamed: 0       700 non-null    int64  \n",
            " 1   Customer Id      700 non-null    int64  \n",
            " 2   Age              700 non-null    int64  \n",
            " 3   Edu              700 non-null    int64  \n",
            " 4   Years Employed   700 non-null    int64  \n",
            " 5   Income           700 non-null    int64  \n",
            " 6   Card Debt        700 non-null    float64\n",
            " 7   Other Debt       700 non-null    float64\n",
            " 8   Defaulted        700 non-null    float64\n",
            " 9   DebtIncomeRatio  700 non-null    float64\n",
            "dtypes: float64(4), int64(6)\n",
            "memory usage: 60.2 KB\n"
          ]
        }
      ]
    },
    {
      "cell_type": "markdown",
      "metadata": {
        "id": "ATfVQd8jeCTW"
      },
      "source": [
        "# Preprocesamiento (Escalamiento)"
      ]
    },
    {
      "cell_type": "code",
      "metadata": {
        "id": "pIpUKmI0eQdV"
      },
      "source": [
        "Scaler = StandardScaler()\n",
        "\n",
        "Scaled_df = Scaler.fit_transform(df)"
      ],
      "execution_count": 6,
      "outputs": []
    },
    {
      "cell_type": "markdown",
      "metadata": {
        "id": "zJVGSVqlf_tv"
      },
      "source": [
        "# Evaluacion agrupacion jerarquica"
      ]
    },
    {
      "cell_type": "code",
      "metadata": {
        "colab": {
          "base_uri": "https://localhost:8080/",
          "height": 296
        },
        "id": "f3vV7xougD9k",
        "outputId": "f8e9ceea-d216-4083-e530-be64fca41614"
      },
      "source": [
        "silhouette_scores = []\n",
        "for i in range(2, 11):\n",
        "  hc = AgglomerativeClustering(n_clusters = 3)\n",
        "  hc.fit(Scaled_df)\n",
        "  silhouette_scores.append(silhouette_score(Scaled_df, hc.labels_))\n",
        "# Visualize scores\n",
        "plt.plot(range(2, 11), silhouette_scores, marker = '.')\n",
        "plt.xlabel('Number of Clusters')\n",
        "plt.ylabel('Silhouette Score');\n",
        "silhouette_score(Scaled_df, hc.labels_)"
      ],
      "execution_count": 16,
      "outputs": [
        {
          "output_type": "execute_result",
          "data": {
            "text/plain": [
              "0.1805877776340726"
            ]
          },
          "metadata": {},
          "execution_count": 16
        },
        {
          "output_type": "display_data",
          "data": {
            "image/png": "[encoded data removed]",
            "text/plain": [
              "<Figure size 432x288 with 1 Axes>"
            ]
          },
          "metadata": {
            "needs_background": "light"
          }
        }
      ]
    },
    {
      "cell_type": "markdown",
      "metadata": {
        "id": "jFPeiDmTtFYl"
      },
      "source": [
        "# DBSCAN"
      ]
    },
    {
      "cell_type": "code",
      "metadata": {
        "colab": {
          "base_uri": "https://localhost:8080/",
          "height": 296
        },
        "id": "Uv6jHMHDtK3i",
        "outputId": "e2d37d16-b4bd-4fe8-e38d-1af948bd54b2"
      },
      "source": [
        "silhouette_scores = []\n",
        "for i in range(2, 11):\n",
        "  dbs = DBSCAN(eps = 0.5, min_samples = 2)\n",
        "  dbs.fit(Scaled_df)\n",
        "  silhouette_scores.append(silhouette_score(Scaled_df, dbs.labels_))\n",
        "# Visualize scores\n",
        "plt.plot(range(2, 11), silhouette_scores, marker = '.')\n",
        "plt.xlabel('Number of Clusters')\n",
        "plt.ylabel('Silhouette Score');\n",
        "silhouette_score(Scaled_df, dbs.labels_)"
      ],
      "execution_count": 15,
      "outputs": [
        {
          "output_type": "execute_result",
          "data": {
            "text/plain": [
              "-0.37689609640007715"
            ]
          },
          "metadata": {},
          "execution_count": 15
        },
        {
          "output_type": "display_data",
          "data": {
            "image/png": "[encoded data removed]",
            "text/plain": [
              "<Figure size 432x288 with 1 Axes>"
            ]
          },
          "metadata": {
            "needs_background": "light"
          }
        }
      ]
    },
    {
      "cell_type": "markdown",
      "metadata": {
        "id": "eIYICZ48upGF"
      },
      "source": [
        "# Kmeans"
      ]
    },
    {
      "cell_type": "code",
      "metadata": {
        "id": "OIRH4hmButII"
      },
      "source": [
        ""
      ],
      "execution_count": null,
      "outputs": []
    }
  ]
}