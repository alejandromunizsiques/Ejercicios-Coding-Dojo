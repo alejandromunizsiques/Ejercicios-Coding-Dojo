{
  "nbformat": 4,
  "nbformat_minor": 0,
  "metadata": {
    "colab": {
      "name": "Desafío KNN.ipynb",
      "provenance": [],
      "toc_visible": true,
      "mount_file_id": "1DQ_zBUwnGlxo1xGVfby9KQja1jLrMkxl",
      "authorship_tag": "ABX9TyPF//327z4aPDNKXgmMfr/1",
      "include_colab_link": true
    },
    "kernelspec": {
      "name": "python3",
      "display_name": "Python 3"
    },
    "language_info": {
      "name": "python"
    }
  },
  "cells": [
    {
      "cell_type": "markdown",
      "metadata": {
        "id": "view-in-github",
        "colab_type": "text"
      },
      "source": [
        "<a href=\"https://colab.research.google.com/github/alejandromunizsiques/Nuevo-repositorio/blob/main/Desaf%C3%ADo_KNN.ipynb\" target=\"_parent\"><img src=\"https://colab.research.google.com/assets/colab-badge.svg\" alt=\"Open In Colab\"/></a>"
      ]
    },
    {
      "cell_type": "markdown",
      "metadata": {
        "id": "oCv1p4om_aGQ"
      },
      "source": [
        "# Importacion de librerias"
      ]
    },
    {
      "cell_type": "code",
      "metadata": {
        "id": "Hp9ZJQcE9fPx",
        "colab": {
          "base_uri": "https://localhost:8080/"
        },
        "outputId": "291676fb-2804-456e-9d2e-bcfd6d9bc389"
      },
      "source": [
        "import pandas as pd\n",
        "import numpy as np\n",
        "from sklearn.preprocessing import StandardScaler\n",
        "from sklearn.neighbors import KNeighborsRegressor\n",
        "from sklearn.neighbors import KNeighborsClassifier\n",
        "!pip install klib\n",
        "!pip install --upgrade klib\n",
        "import klib as klib\n"
      ],
      "execution_count": 1,
      "outputs": [
        {
          "output_type": "stream",
          "name": "stdout",
          "text": [
            "Requirement already satisfied: klib in /usr/local/lib/python3.7/dist-packages (0.2.0)\n",
            "Requirement already satisfied: seaborn>=0.11.1 in /usr/local/lib/python3.7/dist-packages (from klib) (0.11.1)\n",
            "Requirement already satisfied: numpy>=1.15.4 in /usr/local/lib/python3.7/dist-packages (from klib) (1.19.5)\n",
            "Requirement already satisfied: scikit-learn>=0.23 in /usr/local/lib/python3.7/dist-packages (from klib) (0.24.2)\n",
            "Requirement already satisfied: scipy>=1.0.0 in /usr/local/lib/python3.7/dist-packages (from klib) (1.4.1)\n",
            "Requirement already satisfied: matplotlib>=3.0.3 in /usr/local/lib/python3.7/dist-packages (from klib) (3.2.2)\n",
            "Requirement already satisfied: pandas>=1.1 in /usr/local/lib/python3.7/dist-packages (from klib) (1.1.5)\n",
            "Requirement already satisfied: pyparsing!=2.0.4,!=2.1.2,!=2.1.6,>=2.0.1 in /usr/local/lib/python3.7/dist-packages (from matplotlib>=3.0.3->klib) (2.4.7)\n",
            "Requirement already satisfied: kiwisolver>=1.0.1 in /usr/local/lib/python3.7/dist-packages (from matplotlib>=3.0.3->klib) (1.3.1)\n",
            "Requirement already satisfied: cycler>=0.10 in /usr/local/lib/python3.7/dist-packages (from matplotlib>=3.0.3->klib) (0.10.0)\n",
            "Requirement already satisfied: python-dateutil>=2.1 in /usr/local/lib/python3.7/dist-packages (from matplotlib>=3.0.3->klib) (2.8.2)\n",
            "Requirement already satisfied: six in /usr/local/lib/python3.7/dist-packages (from cycler>=0.10->matplotlib>=3.0.3->klib) (1.15.0)\n",
            "Requirement already satisfied: pytz>=2017.2 in /usr/local/lib/python3.7/dist-packages (from pandas>=1.1->klib) (2018.9)\n",
            "Requirement already satisfied: threadpoolctl>=2.0.0 in /usr/local/lib/python3.7/dist-packages (from scikit-learn>=0.23->klib) (2.2.0)\n",
            "Requirement already satisfied: joblib>=0.11 in /usr/local/lib/python3.7/dist-packages (from scikit-learn>=0.23->klib) (1.0.1)\n",
            "Requirement already satisfied: klib in /usr/local/lib/python3.7/dist-packages (0.2.0)\n",
            "Requirement already satisfied: scikit-learn>=0.23 in /usr/local/lib/python3.7/dist-packages (from klib) (0.24.2)\n",
            "Requirement already satisfied: scipy>=1.0.0 in /usr/local/lib/python3.7/dist-packages (from klib) (1.4.1)\n",
            "Requirement already satisfied: matplotlib>=3.0.3 in /usr/local/lib/python3.7/dist-packages (from klib) (3.2.2)\n",
            "Requirement already satisfied: seaborn>=0.11.1 in /usr/local/lib/python3.7/dist-packages (from klib) (0.11.1)\n",
            "Requirement already satisfied: pandas>=1.1 in /usr/local/lib/python3.7/dist-packages (from klib) (1.1.5)\n",
            "Requirement already satisfied: numpy>=1.15.4 in /usr/local/lib/python3.7/dist-packages (from klib) (1.19.5)\n",
            "Requirement already satisfied: pyparsing!=2.0.4,!=2.1.2,!=2.1.6,>=2.0.1 in /usr/local/lib/python3.7/dist-packages (from matplotlib>=3.0.3->klib) (2.4.7)\n",
            "Requirement already satisfied: kiwisolver>=1.0.1 in /usr/local/lib/python3.7/dist-packages (from matplotlib>=3.0.3->klib) (1.3.1)\n",
            "Requirement already satisfied: cycler>=0.10 in /usr/local/lib/python3.7/dist-packages (from matplotlib>=3.0.3->klib) (0.10.0)\n",
            "Requirement already satisfied: python-dateutil>=2.1 in /usr/local/lib/python3.7/dist-packages (from matplotlib>=3.0.3->klib) (2.8.2)\n",
            "Requirement already satisfied: six in /usr/local/lib/python3.7/dist-packages (from cycler>=0.10->matplotlib>=3.0.3->klib) (1.15.0)\n",
            "Requirement already satisfied: pytz>=2017.2 in /usr/local/lib/python3.7/dist-packages (from pandas>=1.1->klib) (2018.9)\n",
            "Requirement already satisfied: threadpoolctl>=2.0.0 in /usr/local/lib/python3.7/dist-packages (from scikit-learn>=0.23->klib) (2.2.0)\n",
            "Requirement already satisfied: joblib>=0.11 in /usr/local/lib/python3.7/dist-packages (from scikit-learn>=0.23->klib) (1.0.1)\n"
          ]
        }
      ]
    },
    {
      "cell_type": "markdown",
      "metadata": {
        "id": "gMQFYOvQDg6-"
      },
      "source": [
        "# Montaje de dataset y  diccionario"
      ]
    },
    {
      "cell_type": "code",
      "metadata": {
        "colab": {
          "base_uri": "https://localhost:8080/",
          "height": 417
        },
        "id": "l4kIl2CDDpKr",
        "outputId": "4ecf2ac3-e022-4768-c233-b517a9665b3c"
      },
      "source": [
        "df = pd.read_csv('/content/drive/MyDrive/Data Science Coding Dojo/Introducción al Machine Learning/abalone.data')\n",
        "df = df.rename(columns={\"M\":\"Sex\",\"0.455\":\"Length\",\"0.365\":\"Diameter\",\"0.095\":\"Height\",\"0.514\":\"Whole weight\",\"0.2245\":\"Shucked weight\",\"0.101\":\"Viscera weight\",\"0.15\":\"Shell weight\",\"15\":\"Rings\"})\n",
        "df"
      ],
      "execution_count": 2,
      "outputs": [
        {
          "output_type": "execute_result",
          "data": {
            "text/html": [
              "<div>\n",
              "<style scoped>\n",
              "    .dataframe tbody tr th:only-of-type {\n",
              "        vertical-align: middle;\n",
              "    }\n",
              "\n",
              "    .dataframe tbody tr th {\n",
              "        vertical-align: top;\n",
              "    }\n",
              "\n",
              "    .dataframe thead th {\n",
              "        text-align: right;\n",
              "    }\n",
              "</style>\n",
              "<table border=\"1\" class=\"dataframe\">\n",
              "  <thead>\n",
              "    <tr style=\"text-align: right;\">\n",
              "      <th></th>\n",
              "      <th>Sex</th>\n",
              "      <th>Length</th>\n",
              "      <th>Diameter</th>\n",
              "      <th>Height</th>\n",
              "      <th>Whole weight</th>\n",
              "      <th>Shucked weight</th>\n",
              "      <th>Viscera weight</th>\n",
              "      <th>Shell weight</th>\n",
              "      <th>Rings</th>\n",
              "    </tr>\n",
              "  </thead>\n",
              "  <tbody>\n",
              "    <tr>\n",
              "      <th>0</th>\n",
              "      <td>M</td>\n",
              "      <td>0.350</td>\n",
              "      <td>0.265</td>\n",
              "      <td>0.090</td>\n",
              "      <td>0.2255</td>\n",
              "      <td>0.0995</td>\n",
              "      <td>0.0485</td>\n",
              "      <td>0.0700</td>\n",
              "      <td>7</td>\n",
              "    </tr>\n",
              "    <tr>\n",
              "      <th>1</th>\n",
              "      <td>F</td>\n",
              "      <td>0.530</td>\n",
              "      <td>0.420</td>\n",
              "      <td>0.135</td>\n",
              "      <td>0.6770</td>\n",
              "      <td>0.2565</td>\n",
              "      <td>0.1415</td>\n",
              "      <td>0.2100</td>\n",
              "      <td>9</td>\n",
              "    </tr>\n",
              "    <tr>\n",
              "      <th>2</th>\n",
              "      <td>M</td>\n",
              "      <td>0.440</td>\n",
              "      <td>0.365</td>\n",
              "      <td>0.125</td>\n",
              "      <td>0.5160</td>\n",
              "      <td>0.2155</td>\n",
              "      <td>0.1140</td>\n",
              "      <td>0.1550</td>\n",
              "      <td>10</td>\n",
              "    </tr>\n",
              "    <tr>\n",
              "      <th>3</th>\n",
              "      <td>I</td>\n",
              "      <td>0.330</td>\n",
              "      <td>0.255</td>\n",
              "      <td>0.080</td>\n",
              "      <td>0.2050</td>\n",
              "      <td>0.0895</td>\n",
              "      <td>0.0395</td>\n",
              "      <td>0.0550</td>\n",
              "      <td>7</td>\n",
              "    </tr>\n",
              "    <tr>\n",
              "      <th>4</th>\n",
              "      <td>I</td>\n",
              "      <td>0.425</td>\n",
              "      <td>0.300</td>\n",
              "      <td>0.095</td>\n",
              "      <td>0.3515</td>\n",
              "      <td>0.1410</td>\n",
              "      <td>0.0775</td>\n",
              "      <td>0.1200</td>\n",
              "      <td>8</td>\n",
              "    </tr>\n",
              "    <tr>\n",
              "      <th>...</th>\n",
              "      <td>...</td>\n",
              "      <td>...</td>\n",
              "      <td>...</td>\n",
              "      <td>...</td>\n",
              "      <td>...</td>\n",
              "      <td>...</td>\n",
              "      <td>...</td>\n",
              "      <td>...</td>\n",
              "      <td>...</td>\n",
              "    </tr>\n",
              "    <tr>\n",
              "      <th>4171</th>\n",
              "      <td>F</td>\n",
              "      <td>0.565</td>\n",
              "      <td>0.450</td>\n",
              "      <td>0.165</td>\n",
              "      <td>0.8870</td>\n",
              "      <td>0.3700</td>\n",
              "      <td>0.2390</td>\n",
              "      <td>0.2490</td>\n",
              "      <td>11</td>\n",
              "    </tr>\n",
              "    <tr>\n",
              "      <th>4172</th>\n",
              "      <td>M</td>\n",
              "      <td>0.590</td>\n",
              "      <td>0.440</td>\n",
              "      <td>0.135</td>\n",
              "      <td>0.9660</td>\n",
              "      <td>0.4390</td>\n",
              "      <td>0.2145</td>\n",
              "      <td>0.2605</td>\n",
              "      <td>10</td>\n",
              "    </tr>\n",
              "    <tr>\n",
              "      <th>4173</th>\n",
              "      <td>M</td>\n",
              "      <td>0.600</td>\n",
              "      <td>0.475</td>\n",
              "      <td>0.205</td>\n",
              "      <td>1.1760</td>\n",
              "      <td>0.5255</td>\n",
              "      <td>0.2875</td>\n",
              "      <td>0.3080</td>\n",
              "      <td>9</td>\n",
              "    </tr>\n",
              "    <tr>\n",
              "      <th>4174</th>\n",
              "      <td>F</td>\n",
              "      <td>0.625</td>\n",
              "      <td>0.485</td>\n",
              "      <td>0.150</td>\n",
              "      <td>1.0945</td>\n",
              "      <td>0.5310</td>\n",
              "      <td>0.2610</td>\n",
              "      <td>0.2960</td>\n",
              "      <td>10</td>\n",
              "    </tr>\n",
              "    <tr>\n",
              "      <th>4175</th>\n",
              "      <td>M</td>\n",
              "      <td>0.710</td>\n",
              "      <td>0.555</td>\n",
              "      <td>0.195</td>\n",
              "      <td>1.9485</td>\n",
              "      <td>0.9455</td>\n",
              "      <td>0.3765</td>\n",
              "      <td>0.4950</td>\n",
              "      <td>12</td>\n",
              "    </tr>\n",
              "  </tbody>\n",
              "</table>\n",
              "<p>4176 rows × 9 columns</p>\n",
              "</div>"
            ],
            "text/plain": [
              "     Sex  Length  Diameter  ...  Viscera weight  Shell weight  Rings\n",
              "0      M   0.350     0.265  ...          0.0485        0.0700      7\n",
              "1      F   0.530     0.420  ...          0.1415        0.2100      9\n",
              "2      M   0.440     0.365  ...          0.1140        0.1550     10\n",
              "3      I   0.330     0.255  ...          0.0395        0.0550      7\n",
              "4      I   0.425     0.300  ...          0.0775        0.1200      8\n",
              "...   ..     ...       ...  ...             ...           ...    ...\n",
              "4171   F   0.565     0.450  ...          0.2390        0.2490     11\n",
              "4172   M   0.590     0.440  ...          0.2145        0.2605     10\n",
              "4173   M   0.600     0.475  ...          0.2875        0.3080      9\n",
              "4174   F   0.625     0.485  ...          0.2610        0.2960     10\n",
              "4175   M   0.710     0.555  ...          0.3765        0.4950     12\n",
              "\n",
              "[4176 rows x 9 columns]"
            ]
          },
          "metadata": {},
          "execution_count": 2
        }
      ]
    },
    {
      "cell_type": "markdown",
      "metadata": {
        "id": "qxQ4NefoelOu"
      },
      "source": [
        "# Analisis Exploratorio"
      ]
    },
    {
      "cell_type": "code",
      "metadata": {
        "colab": {
          "base_uri": "https://localhost:8080/",
          "height": 648
        },
        "id": "tKAoE5r2eEqA",
        "outputId": "38759553-06b1-4739-cce9-2b8ab015c0e1"
      },
      "source": [
        "klib.corr_plot(df, target='Rings')"
      ],
      "execution_count": 3,
      "outputs": [
        {
          "output_type": "execute_result",
          "data": {
            "text/plain": [
              "<matplotlib.axes._subplots.AxesSubplot at 0x7fec49ae12d0>"
            ]
          },
          "metadata": {},
          "execution_count": 3
        },
        {
          "output_type": "display_data",
          "data": {
            "image/png": "[encoded data removed]",
            "text/plain": [
              "<Figure size 864x720 with 2 Axes>"
            ]
          },
          "metadata": {
            "needs_background": "light"
          }
        }
      ]
    },
    {
      "cell_type": "markdown",
      "metadata": {
        "id": "HYhK28U4O2wN"
      },
      "source": [
        "# Selecion de features (Para regresion Lineal)"
      ]
    },
    {
      "cell_type": "code",
      "metadata": {
        "id": "ugIdv5xwEFHL"
      },
      "source": [
        "X = df.loc[:, [\n",
        "               \"Length\",\n",
        "               \"Diameter\",\n",
        "               \"Height\",\n",
        "               \"Whole weight\",\n",
        "               \"Shucked weight\",\n",
        "               \"Viscera weight\",\n",
        "               \"Shell weight\",]]\n",
        "\n",
        "y = df.loc[:,\"Rings\"]\n"
      ],
      "execution_count": 13,
      "outputs": []
    },
    {
      "cell_type": "markdown",
      "metadata": {
        "id": "SU5PNCfNhVHt"
      },
      "source": [
        "# Comprobacion de dimensiones matriz feature y target"
      ]
    },
    {
      "cell_type": "code",
      "metadata": {
        "colab": {
          "base_uri": "https://localhost:8080/"
        },
        "id": "dUxlwcGmhcaO",
        "outputId": "fad800ba-5be1-4716-ad1e-f68a34e2f85f"
      },
      "source": [
        "X.shape\n",
        "y.shape"
      ],
      "execution_count": 14,
      "outputs": [
        {
          "output_type": "execute_result",
          "data": {
            "text/plain": [
              "(4176,)"
            ]
          },
          "metadata": {},
          "execution_count": 14
        }
      ]
    },
    {
      "cell_type": "markdown",
      "metadata": {
        "id": "RnJOIVuzjTwk"
      },
      "source": [
        "# Estandarizacion de datos"
      ]
    },
    {
      "cell_type": "code",
      "metadata": {
        "id": "gXhiPxbqjX_0"
      },
      "source": [
        "Scaler = StandardScaler()\n",
        "Scaler.fit(X)\n",
        "X = Scaler.transform(X)"
      ],
      "execution_count": 15,
      "outputs": []
    },
    {
      "cell_type": "markdown",
      "metadata": {
        "id": "8P2W3YEJlr7Q"
      },
      "source": [
        "# GeneracioN de Regresion KNN"
      ]
    },
    {
      "cell_type": "code",
      "metadata": {
        "colab": {
          "base_uri": "https://localhost:8080/"
        },
        "id": "2LD_5JcJrRVa",
        "outputId": "53b3cc63-97db-4e9c-ade0-0fce01c291e0"
      },
      "source": [
        "Regresion_KNN = KNeighborsRegressor(n_neighbors=1)\n",
        "print(Regresion_KNN)"
      ],
      "execution_count": 24,
      "outputs": [
        {
          "output_type": "stream",
          "name": "stdout",
          "text": [
            "KNeighborsRegressor(n_neighbors=1)\n"
          ]
        }
      ]
    },
    {
      "cell_type": "markdown",
      "metadata": {
        "id": "uE3haG56r7S7"
      },
      "source": [
        "# Entrenamiento KNN Regresor"
      ]
    },
    {
      "cell_type": "code",
      "metadata": {
        "colab": {
          "base_uri": "https://localhost:8080/"
        },
        "id": "EImiOOewsJzp",
        "outputId": "fa0847f9-3683-43ba-957e-01d02b744a78"
      },
      "source": [
        "Regresion_KNN.fit(X,y)"
      ],
      "execution_count": 25,
      "outputs": [
        {
          "output_type": "execute_result",
          "data": {
            "text/plain": [
              "KNeighborsRegressor(n_neighbors=1)"
            ]
          },
          "metadata": {},
          "execution_count": 25
        }
      ]
    },
    {
      "cell_type": "markdown",
      "metadata": {
        "id": "lL870Q2DtY7P"
      },
      "source": [
        "# Predicciones"
      ]
    },
    {
      "cell_type": "code",
      "metadata": {
        "colab": {
          "base_uri": "https://localhost:8080/"
        },
        "id": "8rBw1nDzuNsR",
        "outputId": "903e6abd-3d17-4f43-b178-e26140a1d117"
      },
      "source": [
        "predicciones_Regresion = Regresion_KNN.predict(X)\n",
        "predicciones_Regresion"
      ],
      "execution_count": 26,
      "outputs": [
        {
          "output_type": "execute_result",
          "data": {
            "text/plain": [
              "array([ 7.,  9., 10., ...,  9., 10., 12.])"
            ]
          },
          "metadata": {},
          "execution_count": 26
        }
      ]
    },
    {
      "cell_type": "markdown",
      "metadata": {
        "id": "b7UVe4a9umgT"
      },
      "source": [
        "# Evaluacion del modelo regresor"
      ]
    },
    {
      "cell_type": "code",
      "metadata": {
        "colab": {
          "base_uri": "https://localhost:8080/"
        },
        "id": "fDRvsJoaulTw",
        "outputId": "6c5f90fa-17ed-4f82-93b8-5629eea4a733"
      },
      "source": [
        "score_regresion = Regresion_KNN.score(X,y)\n",
        "score_regresion"
      ],
      "execution_count": 27,
      "outputs": [
        {
          "output_type": "execute_result",
          "data": {
            "text/plain": [
              "1.0"
            ]
          },
          "metadata": {},
          "execution_count": 27
        }
      ]
    },
    {
      "cell_type": "markdown",
      "metadata": {
        "id": "33mf8FB6vJc5"
      },
      "source": [
        "# Modelo de clasificacion KNN (Para el genero)"
      ]
    },
    {
      "cell_type": "code",
      "metadata": {
        "id": "zhTzEFfRw-7f"
      },
      "source": [
        "X_1 = df.loc[:, [\"Length\",\n",
        "               \"Diameter\",\n",
        "               \"Height\",\n",
        "               \"Whole weight\",\n",
        "               \"Shucked weight\",\n",
        "               \"Viscera weight\",\n",
        "               \"Shell weight\"]]\n",
        "\n",
        "y_1 = df.loc[:,\"Sex\"]"
      ],
      "execution_count": 28,
      "outputs": []
    },
    {
      "cell_type": "markdown",
      "metadata": {
        "id": "HV0N96ROyY-4"
      },
      "source": [
        "# Comprobacion de de dimensiones"
      ]
    },
    {
      "cell_type": "code",
      "metadata": {
        "colab": {
          "base_uri": "https://localhost:8080/"
        },
        "id": "Aen5G71cyU2P",
        "outputId": "f36c59c8-1725-4af5-b6b3-190c0d15c423"
      },
      "source": [
        "X_1.shape\n",
        "y_1.shape"
      ],
      "execution_count": 31,
      "outputs": [
        {
          "output_type": "execute_result",
          "data": {
            "text/plain": [
              "(4176,)"
            ]
          },
          "metadata": {},
          "execution_count": 31
        }
      ]
    },
    {
      "cell_type": "markdown",
      "metadata": {
        "id": "aPRF5f9xys_n"
      },
      "source": [
        "# Estandarizacion de datos"
      ]
    },
    {
      "cell_type": "code",
      "metadata": {
        "id": "s56uornkyqkA"
      },
      "source": [
        "Scaler_1 = StandardScaler()\n",
        "Scaler_1.fit(X_1)\n",
        "X_1 = Scaler.transform(X)"
      ],
      "execution_count": 32,
      "outputs": []
    },
    {
      "cell_type": "markdown",
      "metadata": {
        "id": "9PH8ENcFB5-u"
      },
      "source": [
        "# Generacion del modelo KNN Clasificacion"
      ]
    },
    {
      "cell_type": "code",
      "metadata": {
        "colab": {
          "base_uri": "https://localhost:8080/"
        },
        "id": "qvQut5AsB_R5",
        "outputId": "33ba372a-2171-4fca-a485-5bd45feac9c2"
      },
      "source": [
        "Knn_Clasificacion = KNeighborsClassifier(n_neighbors=1)\n",
        "print(Knn_Clasificacion)\n"
      ],
      "execution_count": 70,
      "outputs": [
        {
          "output_type": "stream",
          "name": "stdout",
          "text": [
            "KNeighborsClassifier(n_neighbors=1)\n"
          ]
        }
      ]
    },
    {
      "cell_type": "markdown",
      "metadata": {
        "id": "lFPXopZd_gDR"
      },
      "source": [
        "# Entrenamiento  Modelo clasificacion"
      ]
    },
    {
      "cell_type": "code",
      "metadata": {
        "colab": {
          "base_uri": "https://localhost:8080/"
        },
        "id": "myEiWMIhBtNw",
        "outputId": "12e3861e-5397-4bd7-9b8a-57a51baf3aa3"
      },
      "source": [
        "Knn_Clasificacion.fit(X_1,y_1)"
      ],
      "execution_count": 71,
      "outputs": [
        {
          "output_type": "execute_result",
          "data": {
            "text/plain": [
              "KNeighborsClassifier(n_neighbors=1)"
            ]
          },
          "metadata": {},
          "execution_count": 71
        }
      ]
    },
    {
      "cell_type": "markdown",
      "metadata": {
        "id": "9fucQqmuGEp_"
      },
      "source": [
        "# Predicciones"
      ]
    },
    {
      "cell_type": "code",
      "metadata": {
        "colab": {
          "base_uri": "https://localhost:8080/"
        },
        "id": "cfsj1jmJK4Ry",
        "outputId": "3b51c949-5963-45c8-cc64-a766732d8c2e"
      },
      "source": [
        "predicciones_clasificacion =Knn_Clasificacion.predict(X_1)\n",
        "print (predicciones_clasificacion)"
      ],
      "execution_count": 72,
      "outputs": [
        {
          "output_type": "stream",
          "name": "stdout",
          "text": [
            "['M' 'F' 'M' ... 'M' 'F' 'M']\n"
          ]
        }
      ]
    },
    {
      "cell_type": "markdown",
      "metadata": {
        "id": "xJoPhuvWMnc4"
      },
      "source": [
        "# Evaluacion del modelo "
      ]
    },
    {
      "cell_type": "code",
      "metadata": {
        "colab": {
          "base_uri": "https://localhost:8080/"
        },
        "id": "ZlopxNR0MrYQ",
        "outputId": "74296c8d-e90b-4f8c-f1e9-24e01161a945"
      },
      "source": [
        "score_clasificacion = Knn_Clasificacion.score(X_1,y_1)\n",
        "score_clasificacion"
      ],
      "execution_count": 73,
      "outputs": [
        {
          "output_type": "execute_result",
          "data": {
            "text/plain": [
              "1.0"
            ]
          },
          "metadata": {},
          "execution_count": 73
        }
      ]
    }
  ]
}